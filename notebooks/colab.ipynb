{
  "nbformat": 4,
  "nbformat_minor": 0,
  "metadata": {
    "colab": {
      "name": "Untitled1.ipynb",
      "version": "0.3.2",
      "provenance": [],
      "toc_visible": true
    },
    "kernelspec": {
      "name": "python3",
      "display_name": "Python 3"
    }
  },
  "cells": [
    {
      "metadata": {
        "id": "TK0tBP2Ni8tH",
        "colab_type": "text"
      },
      "cell_type": "markdown",
      "source": [
        "## test "
      ]
    },
    {
      "metadata": {
        "id": "Htdu-TkYjDzE",
        "colab_type": "code",
        "colab": {
          "base_uri": "https://localhost:8080/",
          "height": 34
        },
        "outputId": "d531ee57-3c28-4470-a559-6e3378f1d425"
      },
      "cell_type": "code",
      "source": [
        "print(\"Hello W0rld!\")"
      ],
      "execution_count": 1,
      "outputs": [
        {
          "output_type": "stream",
          "text": [
            "Hello W0rld!\n"
          ],
          "name": "stdout"
        }
      ]
    },
    {
      "metadata": {
        "id": "qQbsb8RujkiR",
        "colab_type": "text"
      },
      "cell_type": "markdown",
      "source": [
        "## repo"
      ]
    },
    {
      "metadata": {
        "id": "Jg1OXSgnjoCN",
        "colab_type": "code",
        "colab": {
          "base_uri": "https://localhost:8080/",
          "height": 121
        },
        "outputId": "8dacda31-66e0-43ef-97f6-ea4f47cc2339"
      },
      "cell_type": "code",
      "source": [
        "!git clone https://github.com/prise6/testColab.git"
      ],
      "execution_count": 2,
      "outputs": [
        {
          "output_type": "stream",
          "text": [
            "Cloning into 'testColab'...\n",
            "remote: Enumerating objects: 14, done.\u001b[K\n",
            "remote: Counting objects: 100% (14/14), done.\u001b[K\n",
            "remote: Compressing objects: 100% (9/9), done.\u001b[K\n",
            "remote: Total 14 (delta 1), reused 9 (delta 0), pack-reused 0\u001b[K\n",
            "Unpacking objects: 100% (14/14), done.\n"
          ],
          "name": "stdout"
        }
      ]
    },
    {
      "metadata": {
        "id": "qIMoNwDzj8Kr",
        "colab_type": "code",
        "colab": {
          "base_uri": "https://localhost:8080/",
          "height": 34
        },
        "outputId": "2711f481-545b-4563-8c28-b7e80b281ef3"
      },
      "cell_type": "code",
      "source": [
        "cd ./testColab"
      ],
      "execution_count": 6,
      "outputs": [
        {
          "output_type": "stream",
          "text": [
            "/content/testColab\n"
          ],
          "name": "stdout"
        }
      ]
    },
    {
      "metadata": {
        "id": "DvQHdXU7ka5J",
        "colab_type": "code",
        "colab": {
          "base_uri": "https://localhost:8080/",
          "height": 34
        },
        "outputId": "c36030b4-eed7-4b72-aff2-90b37be8f527"
      },
      "cell_type": "code",
      "source": [
        "ls"
      ],
      "execution_count": 7,
      "outputs": [
        {
          "output_type": "stream",
          "text": [
            "\u001b[0m\u001b[01;34mdata\u001b[0m/  \u001b[01;34mnotebooks\u001b[0m/\n"
          ],
          "name": "stdout"
        }
      ]
    }
  ]
}